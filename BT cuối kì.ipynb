{
 "cells": [
  {
   "cell_type": "code",
   "execution_count": 1,
   "id": "f419e2d4",
   "metadata": {},
   "outputs": [
    {
     "name": "stderr",
     "output_type": "stream",
     "text": [
      "C:\\Users\\USER\\anaconda3\\Lib\\site-packages\\openpyxl\\worksheet\\_reader.py:329: UserWarning: Unknown extension is not supported and will be removed\n",
      "  warn(msg)\n",
      "C:\\Users\\USER\\anaconda3\\Lib\\site-packages\\openpyxl\\worksheet\\_reader.py:329: UserWarning: Unknown extension is not supported and will be removed\n",
      "  warn(msg)\n"
     ]
    }
   ],
   "source": [
    "import pandas as pd\n",
    "file_path = 'SCMission 2023_Round 3 Data (updated) .xlsx'\n",
    "\n",
    "# Đọc dữ liệu từ file Excel\n",
    "df_product = pd.read_excel(file_path, sheet_name='Data_Master')\n",
    "df_customer = pd.read_excel(file_path, sheet_name='Customer_Master')\n",
    "df_sales_order = pd.read_excel(file_path, sheet_name='Sales_Order')"
   ]
  },
  {
   "cell_type": "code",
   "execution_count": 2,
   "id": "3b37a984",
   "metadata": {},
   "outputs": [],
   "source": [
    "# Lọc danh sách customer ở Úc\n",
    "df_customer_australia = df_customer[df_customer['Country'] == 'Australia']"
   ]
  },
  {
   "cell_type": "code",
   "execution_count": 3,
   "id": "cf425500",
   "metadata": {},
   "outputs": [],
   "source": [
    "# Lọc danh sách customer có mua hàng từ sheet sales order\n",
    "customer_ids = df_sales_order['CustomerRef'].unique()\n",
    "df_customer_sales = df_customer_australia[df_customer_australia['CustomerRef'].isin(customer_ids)]"
   ]
  },
  {
   "cell_type": "code",
   "execution_count": 7,
   "id": "c87348cb",
   "metadata": {},
   "outputs": [
    {
     "ename": "KeyError",
     "evalue": "'Product Master'",
     "output_type": "error",
     "traceback": [
      "\u001b[1;31m---------------------------------------------------------------------------\u001b[0m",
      "\u001b[1;31mKeyError\u001b[0m                                  Traceback (most recent call last)",
      "File \u001b[1;32m~\\anaconda3\\Lib\\site-packages\\pandas\\core\\indexes\\base.py:3802\u001b[0m, in \u001b[0;36mIndex.get_loc\u001b[1;34m(self, key, method, tolerance)\u001b[0m\n\u001b[0;32m   3801\u001b[0m \u001b[38;5;28;01mtry\u001b[39;00m:\n\u001b[1;32m-> 3802\u001b[0m     \u001b[38;5;28;01mreturn\u001b[39;00m \u001b[38;5;28mself\u001b[39m\u001b[38;5;241m.\u001b[39m_engine\u001b[38;5;241m.\u001b[39mget_loc(casted_key)\n\u001b[0;32m   3803\u001b[0m \u001b[38;5;28;01mexcept\u001b[39;00m \u001b[38;5;167;01mKeyError\u001b[39;00m \u001b[38;5;28;01mas\u001b[39;00m err:\n",
      "File \u001b[1;32m~\\anaconda3\\Lib\\site-packages\\pandas\\_libs\\index.pyx:138\u001b[0m, in \u001b[0;36mpandas._libs.index.IndexEngine.get_loc\u001b[1;34m()\u001b[0m\n",
      "File \u001b[1;32m~\\anaconda3\\Lib\\site-packages\\pandas\\_libs\\index.pyx:165\u001b[0m, in \u001b[0;36mpandas._libs.index.IndexEngine.get_loc\u001b[1;34m()\u001b[0m\n",
      "File \u001b[1;32mpandas\\_libs\\hashtable_class_helper.pxi:5745\u001b[0m, in \u001b[0;36mpandas._libs.hashtable.PyObjectHashTable.get_item\u001b[1;34m()\u001b[0m\n",
      "File \u001b[1;32mpandas\\_libs\\hashtable_class_helper.pxi:5753\u001b[0m, in \u001b[0;36mpandas._libs.hashtable.PyObjectHashTable.get_item\u001b[1;34m()\u001b[0m\n",
      "\u001b[1;31mKeyError\u001b[0m: 'Product Master'",
      "\nThe above exception was the direct cause of the following exception:\n",
      "\u001b[1;31mKeyError\u001b[0m                                  Traceback (most recent call last)",
      "Cell \u001b[1;32mIn[7], line 3\u001b[0m\n\u001b[0;32m      1\u001b[0m \u001b[38;5;66;03m# Lọc danh sách sản phẩm có trong danh mục sản phẩm\u001b[39;00m\n\u001b[0;32m      2\u001b[0m product_ids \u001b[38;5;241m=\u001b[39m df_product[\u001b[38;5;124m'\u001b[39m\u001b[38;5;124mProduct Master\u001b[39m\u001b[38;5;124m'\u001b[39m]\u001b[38;5;241m.\u001b[39munique()\n\u001b[1;32m----> 3\u001b[0m df_sales_order_filtered \u001b[38;5;241m=\u001b[39m df_sales_order[df_sales_order[\u001b[38;5;124m'\u001b[39m\u001b[38;5;124mProduct Master\u001b[39m\u001b[38;5;124m'\u001b[39m]\u001b[38;5;241m.\u001b[39misin(product_ids)]\n",
      "File \u001b[1;32m~\\anaconda3\\Lib\\site-packages\\pandas\\core\\frame.py:3807\u001b[0m, in \u001b[0;36mDataFrame.__getitem__\u001b[1;34m(self, key)\u001b[0m\n\u001b[0;32m   3805\u001b[0m \u001b[38;5;28;01mif\u001b[39;00m \u001b[38;5;28mself\u001b[39m\u001b[38;5;241m.\u001b[39mcolumns\u001b[38;5;241m.\u001b[39mnlevels \u001b[38;5;241m>\u001b[39m \u001b[38;5;241m1\u001b[39m:\n\u001b[0;32m   3806\u001b[0m     \u001b[38;5;28;01mreturn\u001b[39;00m \u001b[38;5;28mself\u001b[39m\u001b[38;5;241m.\u001b[39m_getitem_multilevel(key)\n\u001b[1;32m-> 3807\u001b[0m indexer \u001b[38;5;241m=\u001b[39m \u001b[38;5;28mself\u001b[39m\u001b[38;5;241m.\u001b[39mcolumns\u001b[38;5;241m.\u001b[39mget_loc(key)\n\u001b[0;32m   3808\u001b[0m \u001b[38;5;28;01mif\u001b[39;00m is_integer(indexer):\n\u001b[0;32m   3809\u001b[0m     indexer \u001b[38;5;241m=\u001b[39m [indexer]\n",
      "File \u001b[1;32m~\\anaconda3\\Lib\\site-packages\\pandas\\core\\indexes\\base.py:3804\u001b[0m, in \u001b[0;36mIndex.get_loc\u001b[1;34m(self, key, method, tolerance)\u001b[0m\n\u001b[0;32m   3802\u001b[0m     \u001b[38;5;28;01mreturn\u001b[39;00m \u001b[38;5;28mself\u001b[39m\u001b[38;5;241m.\u001b[39m_engine\u001b[38;5;241m.\u001b[39mget_loc(casted_key)\n\u001b[0;32m   3803\u001b[0m \u001b[38;5;28;01mexcept\u001b[39;00m \u001b[38;5;167;01mKeyError\u001b[39;00m \u001b[38;5;28;01mas\u001b[39;00m err:\n\u001b[1;32m-> 3804\u001b[0m     \u001b[38;5;28;01mraise\u001b[39;00m \u001b[38;5;167;01mKeyError\u001b[39;00m(key) \u001b[38;5;28;01mfrom\u001b[39;00m \u001b[38;5;21;01merr\u001b[39;00m\n\u001b[0;32m   3805\u001b[0m \u001b[38;5;28;01mexcept\u001b[39;00m \u001b[38;5;167;01mTypeError\u001b[39;00m:\n\u001b[0;32m   3806\u001b[0m     \u001b[38;5;66;03m# If we have a listlike key, _check_indexing_error will raise\u001b[39;00m\n\u001b[0;32m   3807\u001b[0m     \u001b[38;5;66;03m#  InvalidIndexError. Otherwise we fall through and re-raise\u001b[39;00m\n\u001b[0;32m   3808\u001b[0m     \u001b[38;5;66;03m#  the TypeError.\u001b[39;00m\n\u001b[0;32m   3809\u001b[0m     \u001b[38;5;28mself\u001b[39m\u001b[38;5;241m.\u001b[39m_check_indexing_error(key)\n",
      "\u001b[1;31mKeyError\u001b[0m: 'Product Master'"
     ]
    }
   ],
   "source": [
    "# Lọc danh sách sản phẩm có trong danh mục sản phẩm\n",
    "product_ids = df_product['Product Master'].unique()\n",
    "df_sales_order_filtered = df_sales_order[df_sales_order['Product Master'].isin(product_ids)]"
   ]
  },
  {
   "cell_type": "code",
   "execution_count": 6,
   "id": "519f584e",
   "metadata": {},
   "outputs": [
    {
     "name": "stdout",
     "output_type": "stream",
     "text": [
      "Filtered Customers in Australia:\n",
      "     CustomerRef  CustomerName  SoldToCode   SoldToName MajorAccount  \\\n",
      "38       1047983   Customer 39    14008706    Company 2    Account 1   \n",
      "45       1058155   Customer 46    12000344    Company 3    Account 2   \n",
      "47      11000128   Customer 48    11000128    Company 4    Account 3   \n",
      "48      11000139   Customer 49    11000139    Company 5    Account 4   \n",
      "49      11000144   Customer 50    11000144    Company 6    Account 4   \n",
      "..           ...           ...         ...          ...          ...   \n",
      "851     14022378  Customer 657    11002783  Company 292   Account 62   \n",
      "852     14022384  Customer 658    12000162  Company 263   Account 36   \n",
      "853     14022441  Customer 659    11001014   Company 79    Account 5   \n",
      "854      2011528  Customer 857    12000426          NaN   Account 99   \n",
      "856      4014549  Customer 774    14017621  Company 414   Account 18   \n",
      "\n",
      "     MajorAccountCode  MajorAccountCode.1      Channel  \\\n",
      "38            92579.0             92456.0     Domestic   \n",
      "45            92527.0             92404.0     Domestic   \n",
      "47            91363.0             91240.0  Foodservice   \n",
      "48            91418.0             91295.0  Foodservice   \n",
      "49            91418.0             91295.0  Foodservice   \n",
      "..                ...                 ...          ...   \n",
      "851           92441.0             92318.0     Domestic   \n",
      "852           92532.0             92409.0     Domestic   \n",
      "853           91401.0             91278.0  Foodservice   \n",
      "854           92471.0             92348.0     Domestic   \n",
      "856           91413.0             91290.0      Grocery   \n",
      "\n",
      "                  SubChannel   Longitude   Latitude               City  \\\n",
      "38        Wholesalers/Dist's  152.947407 -27.562473           Brisbane   \n",
      "45               Dry Blender  145.638005 -35.911935              Moira   \n",
      "47      National Distributor  145.206237 -38.025962  Greater Dandenong   \n",
      "48      National Distributor  145.280163 -37.845441               Knox   \n",
      "49      National Distributor  144.947676 -37.728991           Moreland   \n",
      "..                       ...         ...        ...                ...   \n",
      "851       Wholesalers/Dist's  150.879636 -33.786112          Blacktown   \n",
      "852                    Dairy  144.740119 -37.832533            Wyndham   \n",
      "853  Independent Distributor  116.006693 -31.845847               Swan   \n",
      "854                    Other  145.156241 -38.094313          Frankston   \n",
      "856             Supermarkets  145.136628 -37.952852           Kingston   \n",
      "\n",
      "                 State    Country SalesOrganization             Region  \n",
      "38          Queensland  Australia    Organization 2   Greater Brisbane  \n",
      "45            Victoria  Australia               NaN         Shepparton  \n",
      "47            Victoria  Australia    Organization 1  Greater Melbourne  \n",
      "48            Victoria  Australia    Organization 1  Greater Melbourne  \n",
      "49            Victoria  Australia    Organization 1  Greater Melbourne  \n",
      "..                 ...        ...               ...                ...  \n",
      "851    New South Wales  Australia               NaN     Greater Sydney  \n",
      "852           Victoria  Australia               NaN  Greater Melbourne  \n",
      "853  Western Australia  Australia               NaN              Perth  \n",
      "854           Victoria  Australia               NaN  Greater Melbourne  \n",
      "856           Victoria  Australia               NaN  Greater Melbourne  \n",
      "\n",
      "[695 rows x 16 columns]\n"
     ]
    }
   ],
   "source": [
    "# Hiển thị kết quả\n",
    "print(\"Filtered Customers in Australia:\")\n",
    "print(df_customer_sales)"
   ]
  },
  {
   "cell_type": "code",
   "execution_count": null,
   "id": "2ed99f62",
   "metadata": {},
   "outputs": [],
   "source": [
    "print(\"Filtered Sales Orders:\")\n",
    "print(df_sales_order_filtered)"
   ]
  }
 ],
 "metadata": {
  "kernelspec": {
   "display_name": "Python 3 (ipykernel)",
   "language": "python",
   "name": "python3"
  },
  "language_info": {
   "codemirror_mode": {
    "name": "ipython",
    "version": 3
   },
   "file_extension": ".py",
   "mimetype": "text/x-python",
   "name": "python",
   "nbconvert_exporter": "python",
   "pygments_lexer": "ipython3",
   "version": "3.11.4"
  }
 },
 "nbformat": 4,
 "nbformat_minor": 5
}
